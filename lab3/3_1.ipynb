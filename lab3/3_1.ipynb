{
 "metadata": {
  "language_info": {
   "codemirror_mode": {
    "name": "ipython",
    "version": 3
   },
   "file_extension": ".py",
   "mimetype": "text/x-python",
   "name": "python",
   "nbconvert_exporter": "python",
   "pygments_lexer": "ipython3",
   "version": "3.8.5-final"
  },
  "orig_nbformat": 2,
  "kernelspec": {
   "name": "python3",
   "display_name": "Python 3.8.5 64-bit ('new_ml_stuff')",
   "metadata": {
    "interpreter": {
     "hash": "763a41b1bff91081e775b923471110b754705a9a056bd4e5720a6185f3ff3bfb"
    }
   }
  }
 },
 "nbformat": 4,
 "nbformat_minor": 2,
 "cells": [
  {
   "cell_type": "code",
   "execution_count": 1,
   "metadata": {},
   "outputs": [],
   "source": [
    "import importlib\n",
    "import numpy as np\n",
    "import hopfieldNetwork as hn\n",
    "import matplotlib.pyplot as plt"
   ]
  },
  {
   "source": [
    "## 3.1 Convergence and Attractors"
   ],
   "cell_type": "markdown",
   "metadata": {}
  },
  {
   "cell_type": "code",
   "execution_count": 20,
   "metadata": {},
   "outputs": [],
   "source": [
    "N = 8\n",
    "log2N = int(np.log2(N))\n",
    "x1 = np.array([-1, -1, 1, -1, 1, -1, -1, 1])\n",
    "x2 = np.array([-1, -1, -1, -1, -1, 1, -1, -1])\n",
    "x3 = np.array([-1, 1, 1, -1, -1, 1, -1, 1])\n",
    "\n",
    "patterns= np.array([x1, x2, x3])"
   ]
  },
  {
   "cell_type": "code",
   "execution_count": 21,
   "metadata": {},
   "outputs": [
    {
     "output_type": "stream",
     "name": "stdout",
     "text": [
      "Fixed Point found after 3 iterations!\nConvergence towards stored pattern nb 0!\n[-1 -1  1 -1  1 -1 -1  1] \n\nFixed Point found after 3 iterations!\nConvergence towards stored pattern nb 1!\n[-1 -1 -1 -1 -1  1 -1 -1] \n\nFixed Point found after 3 iterations!\nConvergence towards stored pattern nb 2!\n[-1  1  1 -1 -1  1 -1  1] \n\n"
     ]
    }
   ],
   "source": [
    "importlib.reload(hn)\n",
    "hop_net1 = hn.HopfieldNetwork(patterns)\n",
    "hop_net1.check_storage()"
   ]
  },
  {
   "cell_type": "code",
   "execution_count": 22,
   "metadata": {},
   "outputs": [],
   "source": [
    "x1d = np.array([1, -1, 1, -1, 1, -1, -1, 1])\n",
    "x2d = np.array([1, 1, -1, -1, -1, 1, -1, -1])\n",
    "x3d = np.array([1, 1, 1, -1, 1, 1, -1, 1])\n",
    "\n",
    "destroyed_patterns = np.array([x1d, x2d, x3d])"
   ]
  },
  {
   "cell_type": "code",
   "execution_count": 23,
   "metadata": {},
   "outputs": [
    {
     "output_type": "stream",
     "name": "stdout",
     "text": [
      "Fixed Point found after 3 iterations!\nConvergence towards stored pattern nb 0!\n[-1 -1  1 -1  1 -1 -1  1] \n\nFixed Point found after 3 iterations!\nThis pattern is an attractor!\n[-1.  1. -1. -1. -1.  1. -1. -1.] \n\nFixed Point found after 3 iterations!\nConvergence towards stored pattern nb 2!\n[-1  1  1 -1 -1  1 -1  1] \n\n"
     ]
    }
   ],
   "source": [
    "importlib.reload(hn)\n",
    "hop_net1 = hn.HopfieldNetwork(patterns)\n",
    "for p in destroyed_patterns:\n",
    "    inter_patterns, _, _ = hop_net1.update_rule(p, max_iter=log2N)\n",
    "    # for i, ip in enumerate(reversed(inter_patterns)):\n",
    "    #     print(i, ip)"
   ]
  },
  {
   "cell_type": "code",
   "execution_count": 24,
   "metadata": {},
   "outputs": [
    {
     "output_type": "stream",
     "name": "stdout",
     "text": [
      "[-1  1 -1 -1 -1  1 -1 -1] eeoeoeo [-1.  1. -1. -1. -1.  1. -1. -1.]\n"
     ]
    },
    {
     "output_type": "execute_result",
     "data": {
      "text/plain": [
       "(14, 8)"
      ]
     },
     "metadata": {},
     "execution_count": 24
    }
   ],
   "source": [
    "importlib.reload(hn)\n",
    "hop_net1 = hn.HopfieldNetwork(patterns)\n",
    "attractors = hop_net1.find_attractors()\n",
    "attractors.shape"
   ]
  },
  {
   "cell_type": "code",
   "execution_count": 25,
   "metadata": {},
   "outputs": [
    {
     "output_type": "stream",
     "name": "stdout",
     "text": [
      "Fixed Point found after 3 iterations!\nThis pattern is an attractor!\n[ 1. -1. -1.  1.  1. -1.  1. -1.] \n\n"
     ]
    }
   ],
   "source": [
    "x3dd = np.array([1, -1, -1, 1, 1, 1, -1, 1])\n",
    "inter_patterns, _, _ = hop_net1.update_rule(x3dd, max_iter=log2N)"
   ]
  },
  {
   "cell_type": "code",
   "execution_count": null,
   "metadata": {},
   "outputs": [],
   "source": []
  }
 ]
}