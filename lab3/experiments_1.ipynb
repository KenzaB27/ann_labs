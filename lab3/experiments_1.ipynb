{
 "metadata": {
  "language_info": {
   "codemirror_mode": {
    "name": "ipython",
    "version": 3
   },
   "file_extension": ".py",
   "mimetype": "text/x-python",
   "name": "python",
   "nbconvert_exporter": "python",
   "pygments_lexer": "ipython3",
   "version": "3.6.12-final"
  },
  "orig_nbformat": 2,
  "kernelspec": {
   "name": "python3",
   "display_name": "Python 3",
   "language": "python"
  }
 },
 "nbformat": 4,
 "nbformat_minor": 2,
 "cells": [
  {
   "cell_type": "code",
   "execution_count": 4,
   "metadata": {},
   "outputs": [],
   "source": [
    "import importlib\n",
    "import numpy as np\n",
    "import hopfieldNetwork as hn"
   ]
  },
  {
   "source": [
    "## 3.1 Convergence and Attractors"
   ],
   "cell_type": "markdown",
   "metadata": {}
  },
  {
   "cell_type": "code",
   "execution_count": 74,
   "metadata": {},
   "outputs": [],
   "source": [
    "N = 8\n",
    "log2N = int(np.log2(N))\n",
    "x1 = np.array([-1, -1, 1, -1, 1, -1, -1, 1])\n",
    "x2 = np.array([-1, -1, -1, -1, -1, 1, -1, -1])\n",
    "x3 = np.array([-1, 1, 1, -1, -1, 1, -1, 1])\n",
    "\n",
    "patterns= np.array([x1, x2, x3])"
   ]
  },
  {
   "cell_type": "code",
   "execution_count": 88,
   "metadata": {},
   "outputs": [
    {
     "output_type": "stream",
     "name": "stdout",
     "text": [
      "Fixed Point found after 2 iterations!\nConvergence towards stored pattern nb 0!\n[-1 -1  1 -1  1 -1 -1  1] \n\nFixed Point found after 2 iterations!\nConvergence towards stored pattern nb 1!\n[-1 -1 -1 -1 -1  1 -1 -1] \n\nFixed Point found after 2 iterations!\nConvergence towards stored pattern nb 2!\n[-1  1  1 -1 -1  1 -1  1] \n\n"
     ]
    }
   ],
   "source": [
    "importlib.reload(hn)\n",
    "hop_net1 = hn.HopfieldNetwork(patterns)\n",
    "hop_net1.check_storage()"
   ]
  },
  {
   "cell_type": "code",
   "execution_count": 64,
   "metadata": {},
   "outputs": [],
   "source": [
    "x1d = np.array([1, -1, 1, -1, 1, -1, -1, 1])\n",
    "x2d = np.array([1, 1, -1, -1, -1, 1, -1, -1])\n",
    "x3d = np.array([1, 1, 1, -1, 1, 1, -1, 1])\n",
    "\n",
    "destroyed_patterns = np.array([x1d, x2d, x3d])"
   ]
  },
  {
   "cell_type": "code",
   "execution_count": 89,
   "metadata": {},
   "outputs": [
    {
     "output_type": "stream",
     "name": "stdout",
     "text": [
      "Fixed Point found after 2 iterations!\nConvergence towards stored pattern nb 0!\n[-1 -1  1 -1  1 -1 -1  1] \n\nFixed Point found after 2 iterations!\nConvergence towards stored pattern nb 1!\n[-1 -1 -1 -1 -1  1 -1 -1] \n\nFixed Point found after 2 iterations!\nConvergence towards stored pattern nb 2!\n[-1  1  1 -1 -1  1 -1  1] \n\n"
     ]
    }
   ],
   "source": [
    "importlib.reload(hn)\n",
    "hop_net1 = hn.HopfieldNetwork(patterns)\n",
    "for p in destroyed_patterns:\n",
    "    inter_patterns, _ = hop_net1.update_rule(p, max_iter=log2N)\n",
    "    # for i, ip in enumerate(reversed(inter_patterns)):\n",
    "    #     print(i, ip)"
   ]
  },
  {
   "cell_type": "code",
   "execution_count": 93,
   "metadata": {},
   "outputs": [
    {
     "output_type": "execute_result",
     "data": {
      "text/plain": [
       "(163, 8)"
      ]
     },
     "metadata": {},
     "execution_count": 93
    }
   ],
   "source": [
    "importlib.reload(hn)\n",
    "hop_net1 = hn.HopfieldNetwork(patterns)\n",
    "attractors = hop_net1.find_attractors()\n",
    "attractors.shape"
   ]
  }
 ]
}