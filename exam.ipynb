{
 "metadata": {
  "language_info": {
   "codemirror_mode": {
    "name": "ipython",
    "version": 3
   },
   "file_extension": ".py",
   "mimetype": "text/x-python",
   "name": "python",
   "nbconvert_exporter": "python",
   "pygments_lexer": "ipython3",
   "version": "3.6.12-final"
  },
  "orig_nbformat": 2,
  "kernelspec": {
   "name": "python3",
   "display_name": "Python 3.6.12 64-bit (conda)",
   "metadata": {
    "interpreter": {
     "hash": "2762fd0ccae7a6827a0de0868563b3d499c815e35640ddddc3d2dc7e9a34dcb9"
    }
   }
  }
 },
 "nbformat": 4,
 "nbformat_minor": 2,
 "cells": [
  {
   "cell_type": "code",
   "execution_count": 1,
   "metadata": {},
   "outputs": [],
   "source": [
    "from lab1.part1.algorithms.delta import delta_rule, delta_predict\n",
    "from lab1.part1.algorithms.perceptron import perceptron_learning\n",
    "import numpy as np"
   ]
  },
  {
   "source": [
    "## Q3 2020/10/20"
   ],
   "cell_type": "markdown",
   "metadata": {}
  },
  {
   "cell_type": "code",
   "execution_count": 2,
   "metadata": {},
   "outputs": [
    {
     "output_type": "execute_result",
     "data": {
      "text/plain": [
       "array([[ 0.34, -0.78,  0.31,  0.16],\n",
       "       [-0.06, -2.91, -1.35,  0.72]])"
      ]
     },
     "metadata": {},
     "execution_count": 2
    }
   ],
   "source": [
    "w_init = np.array([[1,0,-1,0], [0,-3,-1,1]], dtype='float64') \n",
    "X =  np.array([[1,1,-1], [-1,-1,2], [1,0,1]])\n",
    "y =  np.array([[-1,-1],[1,1],[1,-1]]).T\n",
    "w_per, history = delta_rule(X, y, lr=0.1, max_iters=2,w_init=w_init)\n",
    "w_per"
   ]
  },
  {
   "cell_type": "code",
   "execution_count": 3,
   "metadata": {},
   "outputs": [
    {
     "output_type": "stream",
     "name": "stdout",
     "text": [
      "(4, 2)\n(3, 4)\n"
     ]
    },
    {
     "output_type": "execute_result",
     "data": {
      "text/plain": [
       "array([[-1., -1.],\n",
       "       [ 1.,  1.],\n",
       "       [ 1., -1.]])"
      ]
     },
     "metadata": {},
     "execution_count": 3
    }
   ],
   "source": [
    "y_pred = delta_predict(X, w_per.T) \n",
    "y_pred"
   ]
  },
  {
   "source": [
    "## Same with perceptron Q3 2020/12/16"
   ],
   "cell_type": "markdown",
   "metadata": {}
  },
  {
   "cell_type": "code",
   "execution_count": 35,
   "metadata": {},
   "outputs": [
    {
     "output_type": "stream",
     "name": "stdout",
     "text": [
      "[[-2.   0.5  0. ]\n [-0.5 -0.5 -0.5]]\n"
     ]
    },
    {
     "output_type": "execute_result",
     "data": {
      "text/plain": [
       "array([[0., 0., 1., 1., 0.],\n",
       "       [0., 0., 1., 0., 0.]])"
      ]
     },
     "metadata": {},
     "execution_count": 35
    }
   ],
   "source": [
    "lr = 0.5\n",
    "w = np.array([[1,1,1], [1,1,1]], dtype='float64')\n",
    "# print(w)\n",
    "X =  np.array([[2,1], [1,1], [-2,0], [0,1], [1,-1]])\n",
    "X = np.c_[X, np.ones(X.shape[0])]\n",
    "X = X.T\n",
    "# print(X)\n",
    "y =  np.array([[0,0],[0,0],[1,0],[1,0],[0,1]]).T\n",
    "# print(y)\n",
    "epochs = 1\n",
    "for _ in range(epochs):\n",
    "    update = w @ X\n",
    "    # print(update) \n",
    "    update = np.heaviside(update, 0)\n",
    "    # print(update)\n",
    "    e = y - update\n",
    "    # print(e)\n",
    "    w += lr * e @ X.T\n",
    "print(w)\n",
    "y_pred = np.heaviside(w @ X, 0)\n",
    "y_pred"
   ]
  },
  {
   "source": [
    "## Hopfield"
   ],
   "cell_type": "markdown",
   "metadata": {}
  }
 ]
}